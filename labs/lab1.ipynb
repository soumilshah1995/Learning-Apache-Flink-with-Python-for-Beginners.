{
 "cells": [
  {
   "cell_type": "markdown",
   "id": "3be2d3d3-b746-488f-ae6d-064f8fd7361a",
   "metadata": {},
   "source": [
    "# Getting Started with PyFLink with Soumil Shah"
   ]
  },
  {
   "cell_type": "markdown",
   "id": "a52feb8b-4dc1-43c0-99df-df654d93f8dc",
   "metadata": {},
   "source": [
    "# Step 1: Install Libraray and Packages "
   ]
  },
  {
   "cell_type": "code",
   "execution_count": 3,
   "id": "28560b66-8cb2-4b8e-b89f-4a2492eb7bd2",
   "metadata": {},
   "outputs": [
    {
     "name": "stdout",
     "output_type": "stream",
     "text": [
      "Collecting Faker\n",
      "  Obtaining dependency information for Faker from https://files.pythonhosted.org/packages/73/51/cbc859707aa0fc0ad3819ffb3bdaeee28d10d5ef30150ed9d16691ac3795/Faker-19.6.1-py3-none-any.whl.metadata\n",
      "  Using cached Faker-19.6.1-py3-none-any.whl.metadata (15 kB)\n",
      "Requirement already satisfied: python-dateutil>=2.4 in /Users/soumilnitinshah/anaconda3/envs/my-flink-environment/lib/python3.8/site-packages (from Faker) (2.8.2)\n",
      "Requirement already satisfied: typing-extensions>=3.10.0.1 in /Users/soumilnitinshah/anaconda3/envs/my-flink-environment/lib/python3.8/site-packages (from Faker) (4.8.0)\n",
      "Requirement already satisfied: six>=1.5 in /Users/soumilnitinshah/anaconda3/envs/my-flink-environment/lib/python3.8/site-packages (from python-dateutil>=2.4->Faker) (1.16.0)\n",
      "Using cached Faker-19.6.1-py3-none-any.whl (1.7 MB)\n",
      "Installing collected packages: Faker\n",
      "Successfully installed Faker-19.6.1\n"
     ]
    }
   ],
   "source": [
    "! pip install Faker"
   ]
  },
  {
   "cell_type": "code",
   "execution_count": 8,
   "id": "531a1077-b025-4bd5-87db-353a4f00ae29",
   "metadata": {},
   "outputs": [
    {
     "name": "stdout",
     "output_type": "stream",
     "text": [
      "Name: apache-flink\n",
      "Version: 1.17.1\n",
      "Summary: Apache Flink Python API\n",
      "Home-page: https://flink.apache.org\n",
      "Author: Apache Software Foundation\n",
      "Author-email: dev@flink.apache.org\n",
      "License: https://www.apache.org/licenses/LICENSE-2.0\n",
      "Location: /Users/soumilnitinshah/anaconda3/envs/my-new-environment/lib/python3.8/site-packages\n",
      "Requires: apache-beam, apache-flink-libraries, avro-python3, cloudpickle, fastavro, httplib2, numpy, pandas, pemja, protobuf, py4j, pyarrow, python-dateutil, pytz, requests\n",
      "Required-by: \n"
     ]
    }
   ],
   "source": [
    "! pip show apache-flink"
   ]
  },
  {
   "cell_type": "code",
   "execution_count": 1,
   "id": "df82021d-53d4-448b-8b00-eb53661a4cee",
   "metadata": {},
   "outputs": [
    {
     "name": "stdout",
     "output_type": "stream",
     "text": [
      "openjdk version \"11.0.11\" 2021-04-20\n",
      "OpenJDK Runtime Environment AdoptOpenJDK-11.0.11+9 (build 11.0.11+9)\n",
      "OpenJDK 64-Bit Server VM AdoptOpenJDK-11.0.11+9 (build 11.0.11+9, mixed mode)\n"
     ]
    }
   ],
   "source": [
    "! java -version"
   ]
  },
  {
   "cell_type": "markdown",
   "id": "2f15a885-57c4-4291-920f-cf51c361fa9a",
   "metadata": {},
   "source": [
    "# Step 2 : Basics "
   ]
  },
  {
   "cell_type": "markdown",
   "id": "519ffd6a-777b-44df-9b90-bbf17bd08f3f",
   "metadata": {},
   "source": [
    "# PyFlink Offers \n",
    "* DataStream API\n",
    "* Table API "
   ]
  },
  {
   "cell_type": "markdown",
   "id": "bd5be62b-dc66-4444-b9c2-baffaed0d134",
   "metadata": {},
   "source": [
    "# Table API \n",
    "* Apache Flink offers a Table API as a unified, relational API for batch and stream processing, i.e., queries are executed with the same semantics on unbounded, real-time streams or bounded, batch data sets and produce the same results. The Table API in Flink is commonly used to ease the definition of data analytics, data pipelining, and ETL applications."
   ]
  },
  {
   "cell_type": "markdown",
   "id": "6458407d-9f9f-4d55-848e-d37249a71c8d",
   "metadata": {},
   "source": [
    "## Table Enviroment \n",
    "\n",
    "\n",
    "-> streaming TableEnvironment\n",
    "```\n",
    "env_settings = EnvironmentSettings.in_streaming_mode()\n",
    "table_env = TableEnvironment.create(env_settings)\n",
    "```\n",
    "\n",
    "\n",
    "->batch TableEnvironment\n",
    "```\n",
    "env_settings = EnvironmentSettings.in_batch_mode()\n",
    "table_env = TableEnvironment.create(env_settings)\n",
    "```\n"
   ]
  },
  {
   "cell_type": "markdown",
   "id": "708adb8e-7a5f-4e85-a2df-fccea3037349",
   "metadata": {},
   "source": [
    "#### Creating DataFraeme from LIst of Tuples"
   ]
  },
  {
   "cell_type": "code",
   "execution_count": 6,
   "id": "6b61c130-09b7-4bb2-bae6-487abb14c72b",
   "metadata": {},
   "outputs": [
    {
     "name": "stdout",
     "output_type": "stream",
     "text": [
      "+--------------------------------+--------------------------------+--------------------------------+\n",
      "|                           name |                           city |                          state |\n",
      "+--------------------------------+--------------------------------+--------------------------------+\n",
      "|                 Anthony Chavez |                     New Pamela |                          Maine |\n",
      "|                Scott Blanchard |                   New Ianhaven |                      Louisiana |\n",
      "|                  Jerry Jackson |            Port Katherinemouth |                         Kansas |\n",
      "|             Jessica Cunningham |                       Maryview |                       Kentucky |\n",
      "|               Nicholas Morales |                     Conwayland |                  Massachusetts |\n",
      "|                 Kimberly Lynch |                     Port Jared |                        Alabama |\n",
      "|                 William Jordan |                    Randallbury |                        Vermont |\n",
      "|                  William Hicks |                   Hubbardmouth |                         Hawaii |\n",
      "|                    Marie Moore |                      South Tim |                        Arizona |\n",
      "|               Christina Thomas |                   South Joseph |                         Hawaii |\n",
      "+--------------------------------+--------------------------------+--------------------------------+\n",
      "10 rows in set\n"
     ]
    }
   ],
   "source": [
    "from pyflink.table import EnvironmentSettings, TableEnvironment\n",
    "from faker import Faker\n",
    "\n",
    "# Create a batch TableEnvironment\n",
    "env_settings = EnvironmentSettings.in_batch_mode()\n",
    "table_env = TableEnvironment.create(env_settings)\n",
    "\n",
    "# Initialize Faker\n",
    "fake = Faker()\n",
    "\n",
    "# Generate fake data and convert it into a PyFlink table with column names\n",
    "data = [(fake.name(), fake.city(), fake.state()) for _ in range(10)]  # Generate 10 rows of fake data\n",
    "\n",
    "# Define column names\n",
    "column_names = [\"name\", \"city\", \"state\"]\n",
    "\n",
    "# Create a PyFlink table with column names\n",
    "table = table_env.from_elements(data, schema=column_names)\n",
    "\n",
    "# Print the table\n",
    "table.execute().print()\n"
   ]
  },
  {
   "cell_type": "markdown",
   "id": "2cd22d4b-ee31-4bb9-9d75-97fb07a33184",
   "metadata": {},
   "source": [
    "# Creating Temp View \n"
   ]
  },
  {
   "cell_type": "code",
   "execution_count": 7,
   "id": "6eec0a75-12f9-4ba8-a045-0c91b58dfb06",
   "metadata": {},
   "outputs": [
    {
     "name": "stdout",
     "output_type": "stream",
     "text": [
      "+--------------------------------+--------------------------------+--------------------------------+\n",
      "|                           name |                           city |                          state |\n",
      "+--------------------------------+--------------------------------+--------------------------------+\n",
      "|                 Anthony Chavez |                     New Pamela |                          Maine |\n",
      "|                Scott Blanchard |                   New Ianhaven |                      Louisiana |\n",
      "|                  Jerry Jackson |            Port Katherinemouth |                         Kansas |\n",
      "|             Jessica Cunningham |                       Maryview |                       Kentucky |\n",
      "|               Nicholas Morales |                     Conwayland |                  Massachusetts |\n",
      "|                 Kimberly Lynch |                     Port Jared |                        Alabama |\n",
      "|                 William Jordan |                    Randallbury |                        Vermont |\n",
      "|                  William Hicks |                   Hubbardmouth |                         Hawaii |\n",
      "|                    Marie Moore |                      South Tim |                        Arizona |\n",
      "|               Christina Thomas |                   South Joseph |                         Hawaii |\n",
      "+--------------------------------+--------------------------------+--------------------------------+\n",
      "10 rows in set\n"
     ]
    }
   ],
   "source": [
    "table_env.create_temporary_view('source_table', table)\n",
    "\n",
    "table_env.execute_sql(f\"SELECT * FROM source_table \").print()"
   ]
  },
  {
   "cell_type": "markdown",
   "id": "28b0e594-1a92-4e87-a928-de2ec2fc7f68",
   "metadata": {},
   "source": [
    "### Selecting a column"
   ]
  },
  {
   "cell_type": "code",
   "execution_count": 10,
   "id": "a9ddd7f8-d0e9-4aa6-a065-339487fa739f",
   "metadata": {},
   "outputs": [
    {
     "name": "stdout",
     "output_type": "stream",
     "text": [
      "+--------------------------------+--------------------------------+\n",
      "|                           name |                           city |\n",
      "+--------------------------------+--------------------------------+\n",
      "|                 Anthony Chavez |                     New Pamela |\n",
      "|                Scott Blanchard |                   New Ianhaven |\n",
      "|                  Jerry Jackson |            Port Katherinemouth |\n",
      "|             Jessica Cunningham |                       Maryview |\n",
      "|               Nicholas Morales |                     Conwayland |\n",
      "|                 Kimberly Lynch |                     Port Jared |\n",
      "|                 William Jordan |                    Randallbury |\n",
      "|                  William Hicks |                   Hubbardmouth |\n",
      "|                    Marie Moore |                      South Tim |\n",
      "|               Christina Thomas |                   South Joseph |\n",
      "+--------------------------------+--------------------------------+\n",
      "10 rows in set\n"
     ]
    }
   ],
   "source": [
    "table.select(col(\"name\"), col(\"city\")).execute().print()"
   ]
  },
  {
   "cell_type": "markdown",
   "id": "e3b7a235-3140-4603-8759-c80008d4b61a",
   "metadata": {},
   "source": [
    "### Filtering Data"
   ]
  },
  {
   "cell_type": "code",
   "execution_count": 11,
   "id": "044aac9e-279e-4f6d-aa4e-0506a8bfe325",
   "metadata": {},
   "outputs": [
    {
     "name": "stdout",
     "output_type": "stream",
     "text": [
      "+--------------------------------+--------------------------------+--------------------------------+\n",
      "|                           name |                           city |                          state |\n",
      "+--------------------------------+--------------------------------+--------------------------------+\n",
      "|                 William Jordan |                    Randallbury |                        Vermont |\n",
      "+--------------------------------+--------------------------------+--------------------------------+\n",
      "1 row in set\n"
     ]
    }
   ],
   "source": [
    "from pyflink.table.expressions import col\n",
    "\n",
    "table \\\n",
    "    .select(col(\"name\"), col(\"city\"), col(\"state\")) \\\n",
    "    .where(col(\"state\") == 'Vermont') \\\n",
    "    .execute().print()"
   ]
  },
  {
   "cell_type": "markdown",
   "id": "291aebc2-85df-4069-b191-ac87ade554fd",
   "metadata": {},
   "source": [
    "### Group By"
   ]
  },
  {
   "cell_type": "code",
   "execution_count": 12,
   "id": "70632e3f-4ef5-41ec-856b-c52855f98f5d",
   "metadata": {},
   "outputs": [
    {
     "name": "stdout",
     "output_type": "stream",
     "text": [
      "+--------------------------------+----------------------+\n",
      "|                          state |                count |\n",
      "+--------------------------------+----------------------+\n",
      "|                         Kansas |                    1 |\n",
      "|                        Alabama |                    1 |\n",
      "|                         Hawaii |                    2 |\n",
      "|                          Maine |                    1 |\n",
      "|                  Massachusetts |                    1 |\n",
      "|                       Kentucky |                    1 |\n",
      "|                      Louisiana |                    1 |\n",
      "|                        Arizona |                    1 |\n",
      "|                        Vermont |                    1 |\n",
      "+--------------------------------+----------------------+\n",
      "9 rows in set\n"
     ]
    }
   ],
   "source": [
    "table \\\n",
    "    .group_by(col(\"state\")) \\\n",
    "    .select(col(\"state\").alias(\"state\"), col(\"name\").count.alias(\"count\")) \\\n",
    "    .execute().print()"
   ]
  },
  {
   "cell_type": "markdown",
   "id": "c2347ae3-ba80-419a-aa7d-00ebbef47e5d",
   "metadata": {},
   "source": [
    "# Creating SINK"
   ]
  },
  {
   "cell_type": "code",
   "execution_count": 13,
   "id": "cad34630-20b5-499f-8c8b-9667aedb7ac5",
   "metadata": {},
   "outputs": [
    {
     "name": "stdout",
     "output_type": "stream",
     "text": [
      "+I[Anthony Chavez, New Pamela, Maine]\n",
      "+I[Scott Blanchard, New Ianhaven, Louisiana]\n",
      "+I[Jerry Jackson, Port Katherinemouth, Kansas]\n",
      "+I[Jessica Cunningham, Maryview, Kentucky]\n",
      "+I[Nicholas Morales, Conwayland, Massachusetts]\n",
      "+I[Kimberly Lynch, Port Jared, Alabama]\n",
      "+I[William Jordan, Randallbury, Vermont]\n",
      "+I[William Hicks, Hubbardmouth, Hawaii]\n",
      "+I[Marie Moore, South Tim, Arizona]\n",
      "+I[Christina Thomas, South Joseph, Hawaii]\n"
     ]
    }
   ],
   "source": [
    "table_env.execute_sql(\"\"\"\n",
    "    CREATE TABLE print_sink (\n",
    "        name STRING, \n",
    "        city STRING,\n",
    "        state STRING\n",
    "    ) WITH (\n",
    "        'connector' = 'print'\n",
    "    )\n",
    "\"\"\")\n",
    "\n",
    "table_env.execute_sql(\"\"\"\n",
    "    INSERT INTO print_sink\n",
    "        SELECT * FROM source_table\n",
    "\"\"\").wait()\n",
    "\n"
   ]
  },
  {
   "cell_type": "markdown",
   "id": "8e60d36e-3838-4f82-a202-264c7e65e51a",
   "metadata": {},
   "source": [
    "# Collect Results to Client "
   ]
  },
  {
   "cell_type": "code",
   "execution_count": 76,
   "id": "c7280dd6-4760-4085-b731-ade3ca5b99d0",
   "metadata": {},
   "outputs": [
    {
     "name": "stdout",
     "output_type": "stream",
     "text": [
      "<Row('Deborah Elliott', 'Boydhaven', 'Washington')>\n",
      "<Row('Nathaniel Lee', 'Christinemouth', 'Wyoming')>\n",
      "<Row('James White', 'Garzabury', 'Georgia')>\n",
      "<Row('Timothy Ortiz', 'New Phillip', 'Washington')>\n",
      "<Row('Amanda Flores', 'Jesseborough', 'California')>\n",
      "<Row('Christopher Hawkins', 'New Jonathan', 'Alaska')>\n",
      "<Row('Kathy Jones', 'Lake Tammy', 'Alabama')>\n",
      "<Row('Chad Woodward', 'Grantmouth', 'Utah')>\n",
      "<Row('Allison Smith', 'South Tylermouth', 'Maryland')>\n",
      "<Row('Thomas Larson', 'Santiagostad', 'Georgia')>\n"
     ]
    }
   ],
   "source": [
    "table_result = table_env.execute_sql(f\"SELECT * FROM source_table \")\n",
    "\n",
    "with table_result.collect() as results:\n",
    "   for result in results:\n",
    "       print(result)\n"
   ]
  },
  {
   "cell_type": "markdown",
   "id": "8f7c75a2-3512-43db-b473-e4d8c3d62d1c",
   "metadata": {},
   "source": [
    "# Convert Pandas DataFrame to PyFlink Table and Vice Versa"
   ]
  },
  {
   "cell_type": "code",
   "execution_count": 78,
   "id": "5f612c87-889a-4385-8242-66f5b6f787cf",
   "metadata": {},
   "outputs": [
    {
     "data": {
      "text/html": [
       "<div>\n",
       "<style scoped>\n",
       "    .dataframe tbody tr th:only-of-type {\n",
       "        vertical-align: middle;\n",
       "    }\n",
       "\n",
       "    .dataframe tbody tr th {\n",
       "        vertical-align: top;\n",
       "    }\n",
       "\n",
       "    .dataframe thead th {\n",
       "        text-align: right;\n",
       "    }\n",
       "</style>\n",
       "<table border=\"1\" class=\"dataframe\">\n",
       "  <thead>\n",
       "    <tr style=\"text-align: right;\">\n",
       "      <th></th>\n",
       "      <th>name</th>\n",
       "      <th>city</th>\n",
       "      <th>state</th>\n",
       "    </tr>\n",
       "  </thead>\n",
       "  <tbody>\n",
       "    <tr>\n",
       "      <th>0</th>\n",
       "      <td>Deborah Elliott</td>\n",
       "      <td>Boydhaven</td>\n",
       "      <td>Washington</td>\n",
       "    </tr>\n",
       "    <tr>\n",
       "      <th>1</th>\n",
       "      <td>Nathaniel Lee</td>\n",
       "      <td>Christinemouth</td>\n",
       "      <td>Wyoming</td>\n",
       "    </tr>\n",
       "    <tr>\n",
       "      <th>2</th>\n",
       "      <td>James White</td>\n",
       "      <td>Garzabury</td>\n",
       "      <td>Georgia</td>\n",
       "    </tr>\n",
       "    <tr>\n",
       "      <th>3</th>\n",
       "      <td>Timothy Ortiz</td>\n",
       "      <td>New Phillip</td>\n",
       "      <td>Washington</td>\n",
       "    </tr>\n",
       "    <tr>\n",
       "      <th>4</th>\n",
       "      <td>Amanda Flores</td>\n",
       "      <td>Jesseborough</td>\n",
       "      <td>California</td>\n",
       "    </tr>\n",
       "    <tr>\n",
       "      <th>5</th>\n",
       "      <td>Christopher Hawkins</td>\n",
       "      <td>New Jonathan</td>\n",
       "      <td>Alaska</td>\n",
       "    </tr>\n",
       "    <tr>\n",
       "      <th>6</th>\n",
       "      <td>Kathy Jones</td>\n",
       "      <td>Lake Tammy</td>\n",
       "      <td>Alabama</td>\n",
       "    </tr>\n",
       "    <tr>\n",
       "      <th>7</th>\n",
       "      <td>Chad Woodward</td>\n",
       "      <td>Grantmouth</td>\n",
       "      <td>Utah</td>\n",
       "    </tr>\n",
       "    <tr>\n",
       "      <th>8</th>\n",
       "      <td>Allison Smith</td>\n",
       "      <td>South Tylermouth</td>\n",
       "      <td>Maryland</td>\n",
       "    </tr>\n",
       "    <tr>\n",
       "      <th>9</th>\n",
       "      <td>Thomas Larson</td>\n",
       "      <td>Santiagostad</td>\n",
       "      <td>Georgia</td>\n",
       "    </tr>\n",
       "  </tbody>\n",
       "</table>\n",
       "</div>"
      ],
      "text/plain": [
       "                  name              city       state\n",
       "0      Deborah Elliott         Boydhaven  Washington\n",
       "1        Nathaniel Lee    Christinemouth     Wyoming\n",
       "2          James White         Garzabury     Georgia\n",
       "3        Timothy Ortiz       New Phillip  Washington\n",
       "4        Amanda Flores      Jesseborough  California\n",
       "5  Christopher Hawkins      New Jonathan      Alaska\n",
       "6          Kathy Jones        Lake Tammy     Alabama\n",
       "7        Chad Woodward        Grantmouth        Utah\n",
       "8        Allison Smith  South Tylermouth    Maryland\n",
       "9        Thomas Larson      Santiagostad     Georgia"
      ]
     },
     "execution_count": 78,
     "metadata": {},
     "output_type": "execute_result"
    }
   ],
   "source": [
    "pandas_df = table.to_pandas()\n",
    "pandas_df"
   ]
  },
  {
   "cell_type": "code",
   "execution_count": 81,
   "id": "3cf02402-8095-4399-8f43-f9ecb7b8221a",
   "metadata": {},
   "outputs": [
    {
     "name": "stdout",
     "output_type": "stream",
     "text": [
      "+----+--------------------------------+--------------------------------+--------------------------------+\n",
      "| op |                           name |                           city |                          state |\n",
      "+----+--------------------------------+--------------------------------+--------------------------------+\n",
      "| +I |                Deborah Elliott |                      Boydhaven |                     Washington |\n",
      "| +I |                  Nathaniel Lee |                 Christinemouth |                        Wyoming |\n",
      "| +I |                    James White |                      Garzabury |                        Georgia |\n",
      "| +I |                  Timothy Ortiz |                    New Phillip |                     Washington |\n",
      "| +I |                  Amanda Flores |                   Jesseborough |                     California |\n",
      "| +I |            Christopher Hawkins |                   New Jonathan |                         Alaska |\n",
      "| +I |                    Kathy Jones |                     Lake Tammy |                        Alabama |\n",
      "| +I |                  Chad Woodward |                     Grantmouth |                           Utah |\n",
      "| +I |                  Allison Smith |               South Tylermouth |                       Maryland |\n",
      "| +I |                  Thomas Larson |                   Santiagostad |                        Georgia |\n",
      "+----+--------------------------------+--------------------------------+--------------------------------+\n",
      "10 rows in set\n"
     ]
    }
   ],
   "source": [
    "# Create a PyFlink Table from a Pandas DataFrame with the specified row type\n",
    "table_temp = t_env.from_pandas(pandas_df)\n",
    "table_temp.execute().print()"
   ]
  },
  {
   "cell_type": "code",
   "execution_count": null,
   "id": "d18b6647-bc19-4ebd-a205-1d2498595091",
   "metadata": {},
   "outputs": [],
   "source": []
  },
  {
   "cell_type": "markdown",
   "id": "ba761906-2bf2-4ee5-82a4-bd464c0ffef9",
   "metadata": {},
   "source": [
    "# UDF"
   ]
  },
  {
   "cell_type": "code",
   "execution_count": 82,
   "id": "776340e6-e67e-416e-a6c5-deceb5b09212",
   "metadata": {},
   "outputs": [
    {
     "name": "stdout",
     "output_type": "stream",
     "text": [
      "+--------------------------------+--------------------------------+--------------------------------+\n",
      "|                           name |                           city |                          state |\n",
      "+--------------------------------+--------------------------------+--------------------------------+\n",
      "|                Deborah Elliott |                      Boydhaven |                     Washington |\n",
      "|                  Nathaniel Lee |                 Christinemouth |                        Wyoming |\n",
      "|                    James White |                      Garzabury |                        Georgia |\n",
      "|                  Timothy Ortiz |                    New Phillip |                     Washington |\n",
      "|                  Amanda Flores |                   Jesseborough |                     California |\n",
      "|            Christopher Hawkins |                   New Jonathan |                         Alaska |\n",
      "|                    Kathy Jones |                     Lake Tammy |                        Alabama |\n",
      "|                  Chad Woodward |                     Grantmouth |                           Utah |\n",
      "|                  Allison Smith |               South Tylermouth |                       Maryland |\n",
      "|                  Thomas Larson |                   Santiagostad |                        Georgia |\n",
      "+--------------------------------+--------------------------------+--------------------------------+\n",
      "10 rows in set\n"
     ]
    }
   ],
   "source": [
    "table.execute().print()"
   ]
  },
  {
   "cell_type": "markdown",
   "id": "dd7b5c2b-94a9-44d4-8408-521e46e81985",
   "metadata": {},
   "source": [
    "# UDF"
   ]
  },
  {
   "cell_type": "code",
   "execution_count": 103,
   "id": "edf05154-2179-45bd-932f-58a65701068c",
   "metadata": {},
   "outputs": [
    {
     "name": "stdout",
     "output_type": "stream",
     "text": [
      "+--------------------------------+--------------------------------+--------------------------------+\n",
      "|                           city |                           name |                           guid |\n",
      "+--------------------------------+--------------------------------+--------------------------------+\n",
      "|                      Boydhaven |                Deborah Elliott | 5982f808-fdf8-45ae-a25d-f10... |\n",
      "|                 Christinemouth |                  Nathaniel Lee | 9f5b03e3-56aa-4b2f-ab71-160... |\n",
      "|                      Garzabury |                    James White | 6b511392-71a8-4634-91ef-813... |\n",
      "|                    New Phillip |                  Timothy Ortiz | 9d4236a5-dde4-46c0-83ea-e77... |\n",
      "|                   Jesseborough |                  Amanda Flores | ed3b09e7-2c33-44ca-b190-857... |\n",
      "|                   New Jonathan |            Christopher Hawkins | 7ea8e9c7-b86e-4660-93cf-5f9... |\n",
      "|                     Lake Tammy |                    Kathy Jones | ba85202f-8d7b-4857-b789-7c7... |\n",
      "|                     Grantmouth |                  Chad Woodward | 0b86b8e0-3177-47e0-bda8-983... |\n",
      "|               South Tylermouth |                  Allison Smith | ca60ba54-a7f2-44b2-af87-c1a... |\n",
      "|                   Santiagostad |                  Thomas Larson | 17e1ca8b-3bb6-42fc-9d29-ae5... |\n",
      "+--------------------------------+--------------------------------+--------------------------------+\n",
      "10 rows in set\n"
     ]
    }
   ],
   "source": [
    "import uuid\n",
    "import functools  # Import functools\n",
    "\n",
    "from pyflink.table.udf import udf\n",
    "from pyflink.table.expressions import col, call\n",
    "from pyflink.table import TableEnvironment, EnvironmentSettings\n",
    "\n",
    "\n",
    "\n",
    "def generate_guid():\n",
    "    return str(uuid.uuid4())\n",
    "\n",
    "\n",
    "myhash = udf(functools.partial(a), result_type='STRING')\n",
    "\n",
    "result_table = table.select(col(\"city\"), col(\"name\"), call(myhash).alias(\"guid\"))\n",
    "\n",
    "result_table.execute().print()"
   ]
  },
  {
   "cell_type": "markdown",
   "id": "64c82b5e-1d36-4472-84b0-e28260dc1603",
   "metadata": {},
   "source": [
    "# Referneces \n",
    "* https://nightlies.apache.org/flink/flink-docs-master/docs/dev/python/table/intro_to_table_api/"
   ]
  }
 ],
 "metadata": {
  "kernelspec": {
   "display_name": "Python 3 (ipykernel)",
   "language": "python",
   "name": "python3"
  },
  "language_info": {
   "codemirror_mode": {
    "name": "ipython",
    "version": 3
   },
   "file_extension": ".py",
   "mimetype": "text/x-python",
   "name": "python",
   "nbconvert_exporter": "python",
   "pygments_lexer": "ipython3",
   "version": "3.8.18"
  }
 },
 "nbformat": 4,
 "nbformat_minor": 5
}
